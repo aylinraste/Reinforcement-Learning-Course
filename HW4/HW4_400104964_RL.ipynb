{
  "cells": [
    {
      "cell_type": "markdown",
      "metadata": {
        "id": "r9HxtwHbk6Pc"
      },
      "source": [
        "# Offline RL (80 Points)\n",
        "\n",
        "> Name: Aylin Rasteh\n",
        "\n",
        "> SID: 400104964\n",
        "\n"
      ]
    },
    {
      "cell_type": "markdown",
      "metadata": {
        "id": "1PJUxRV4MIod"
      },
      "source": [
        "\n",
        "In this notebook, we will implement the Soft Actor Critic (SAC) algorithm on the CartPole environment in both online and offline settings. The SAC framework focuses on maximizing the expected reward while also maximizing entropy, meaning the actor aims to succeed at the task while maintaining a high level of randomness in its actions. This approach explicitly encourages exploration by seeking a high entropy in the policy.\n",
        "\n",
        "In the second part, we will use the policy learned in the first part to collect a dataset of expert trajectories and perform behavioral cloning.\n",
        "\n",
        "*The existing results are the baseline for the quality of your implementation.*"
      ]
    },
    {
      "cell_type": "code",
      "execution_count": 1,
      "metadata": {
        "execution": {
          "iopub.execute_input": "2024-07-08T08:11:07.537914Z",
          "iopub.status.busy": "2024-07-08T08:11:07.537102Z",
          "iopub.status.idle": "2024-07-08T08:11:07.546797Z",
          "shell.execute_reply": "2024-07-08T08:11:07.545566Z",
          "shell.execute_reply.started": "2024-07-08T08:11:07.537875Z"
        },
        "id": "UC-BecdPmdb3",
        "trusted": true
      },
      "outputs": [],
      "source": [
        "import torch\n",
        "import torch.nn as nn\n",
        "import torch.nn.functional as F\n",
        "from torch.distributions import Normal\n",
        "import torch.optim as optim\n",
        "import numpy as np\n",
        "import random\n",
        "import gym\n",
        "import matplotlib.pyplot as plt\n",
        "import imageio\n",
        "from tqdm import tqdm\n",
        "from torch.optim import Adam\n",
        "\n",
        "\n",
        "seed = 42\n",
        "random.seed(seed)\n",
        "np.random.seed(seed)\n",
        "torch.manual_seed(seed)\n",
        "torch.cuda.manual_seed(seed)\n",
        "torch.backends.cudnn.deterministic = True"
      ]
    },
    {
      "cell_type": "code",
      "execution_count": 3,
      "metadata": {
        "execution": {
          "iopub.execute_input": "2024-07-08T08:08:24.338041Z",
          "iopub.status.busy": "2024-07-08T08:08:24.337518Z",
          "iopub.status.idle": "2024-07-08T08:08:24.345590Z",
          "shell.execute_reply": "2024-07-08T08:08:24.344375Z",
          "shell.execute_reply.started": "2024-07-08T08:08:24.338001Z"
        },
        "id": "GSpSSRB-zCea",
        "trusted": true
      },
      "outputs": [],
      "source": [
        "from IPython.display import HTML\n",
        "from base64 import b64encode\n",
        "\n",
        "def show_video(path):\n",
        "    mp4 = open(path, 'rb').read()\n",
        "    data_url = \"data:video/mp4;base64,\" + b64encode(mp4).decode()\n",
        "    return HTML(\"\"\"\n",
        "    <video width=400 controls>\n",
        "          <source src=\"%s\" type=\"video/mp4\">\n",
        "    </video>\n",
        "    \"\"\" % data_url)"
      ]
    },
    {
      "cell_type": "markdown",
      "metadata": {
        "id": "_whWTLZejkm3"
      },
      "source": [
        "## Network Structure (10 points)\n",
        "For constructing SAC agent, we use objects of feedforward neural networks with 3 layers. Complete the code below."
      ]
    },
    {
      "cell_type": "code",
      "execution_count": 4,
      "metadata": {
        "execution": {
          "iopub.execute_input": "2024-07-08T08:25:01.998624Z",
          "iopub.status.busy": "2024-07-08T08:25:01.998082Z",
          "iopub.status.idle": "2024-07-08T08:25:02.008778Z",
          "shell.execute_reply": "2024-07-08T08:25:02.007122Z",
          "shell.execute_reply.started": "2024-07-08T08:25:01.998493Z"
        },
        "id": "4pxOyt0xh4nN",
        "trusted": true
      },
      "outputs": [],
      "source": [
        "class Network(torch.nn.Module):\n",
        "\n",
        "    def __init__(self, input_dimension, output_dimension, output_activation=torch.nn.Identity()):\n",
        "        super(Network, self).__init__()\n",
        "        ##########################################################\n",
        "         \n",
        "        # Define your network layers\n",
        "        ##########################################################\n",
        "        self.fc1 = nn.Linear(input_dimension, 64)\n",
        "        self.fc2 = nn.Linear(64, 64)\n",
        "        self.fc3 = nn.Linear(64, output_dimension)\n",
        "        self.output_activation = output_activation\n",
        "\n",
        "    def forward(self, inpt):\n",
        "        output = None\n",
        "        ##########################################################\n",
        "         \n",
        "        # Calculate the output\n",
        "        ##########################################################\n",
        "        x = F.relu(self.fc1(inpt))\n",
        "        x = F.relu(self.fc2(x))\n",
        "        x = self.fc3(x)\n",
        "        output = self.output_activation(x)\n",
        "        return output"
      ]
    },
    {
      "cell_type": "markdown",
      "metadata": {
        "id": "DToSGdmDka1u"
      },
      "source": [
        "## Replay Buffer\n",
        "\n",
        "A SAC agent requires a replay buffer to sample previously visited states. You can utilize the implemented code below to set up this replay buffer."
      ]
    },
    {
      "cell_type": "code",
      "execution_count": 5,
      "metadata": {
        "execution": {
          "iopub.execute_input": "2024-07-08T08:10:14.305415Z",
          "iopub.status.busy": "2024-07-08T08:10:14.304979Z",
          "iopub.status.idle": "2024-07-08T08:10:14.319372Z",
          "shell.execute_reply": "2024-07-08T08:10:14.317982Z",
          "shell.execute_reply.started": "2024-07-08T08:10:14.305379Z"
        },
        "id": "UC7jTwJXh8wl",
        "trusted": true
      },
      "outputs": [],
      "source": [
        "import numpy as np\n",
        "\n",
        "class ReplayBuffer:\n",
        "    def __init__(self, environment, capacity=500000):\n",
        "        transition_type_str = self.get_transition_type_str(environment)\n",
        "        self.buffer = np.zeros(capacity, dtype=transition_type_str)\n",
        "        self.weights = np.zeros(capacity)\n",
        "        self.head_idx = 0\n",
        "        self.count = 0\n",
        "        self.capacity = capacity\n",
        "        self.max_weight = 1e-2\n",
        "        self.delta = 1e-4\n",
        "        self.indices = None\n",
        "        self.mirror_index = np.random.permutation(range(self.buffer.shape[0]))\n",
        "\n",
        "    def get_transition_type_str(self, environment):\n",
        "        state_dim = environment.observation_space.shape[0]\n",
        "        state_dim_str = '' if state_dim == () else str(state_dim)\n",
        "        state_type_str = environment.observation_space.sample().dtype.name\n",
        "        action_dim = environment.action_space.shape\n",
        "        action_dim_str = '' if action_dim == () else str(action_dim)\n",
        "        action_type_str = environment.action_space.sample().__class__.__name__\n",
        "\n",
        "        transition_type_str = '{0}{1}, {2}{3}, float32, {0}{1}, float32'.format(state_dim_str, state_type_str,\n",
        "                                                                             action_dim_str, action_type_str)\n",
        "\n",
        "        return transition_type_str\n",
        "\n",
        "    def add_transition(self, transition):\n",
        "        self.buffer[self.head_idx] = transition\n",
        "        self.weights[self.head_idx] = self.max_weight\n",
        "\n",
        "        self.head_idx = (self.head_idx + 1) % self.capacity\n",
        "        self.count = min(self.count + 1, self.capacity)\n",
        "\n",
        "    def sample_minibatch(self, size=100, batch_deterministic_start=None):\n",
        "        set_weights = self.weights[:self.count] + self.delta\n",
        "        probabilities = set_weights / sum(set_weights)\n",
        "        if batch_deterministic_start is None:\n",
        "            self.indices = np.random.choice(range(self.count), size, p=probabilities, replace=False)\n",
        "        else:\n",
        "            self.indices = self.mirror_index[batch_deterministic_start:batch_deterministic_start+size]\n",
        "        return self.buffer[self.indices]\n",
        "\n",
        "    def update_weights(self, prediction_errors):\n",
        "        max_error = max(prediction_errors)\n",
        "        self.max_weight = max(self.max_weight, max_error)\n",
        "        self.weights[self.indices] = prediction_errors\n",
        "\n",
        "    def get_size(self):\n",
        "        return self.count"
      ]
    },
    {
      "cell_type": "markdown",
      "metadata": {
        "id": "5wOrt_EmfFFD"
      },
      "source": [
        "## SAC Agent (50 points)"
      ]
    },
    {
      "cell_type": "markdown",
      "metadata": {
        "id": "ScEk94Ubb01W"
      },
      "source": [
        "Now complete the following class. You can use the auxiliary methods provided in the class."
      ]
    },
    {
      "cell_type": "code",
      "execution_count": 6,
      "metadata": {
        "execution": {
          "iopub.execute_input": "2024-07-08T10:12:01.221821Z",
          "iopub.status.busy": "2024-07-08T10:12:01.221367Z",
          "iopub.status.idle": "2024-07-08T10:12:01.256233Z",
          "shell.execute_reply": "2024-07-08T10:12:01.254907Z",
          "shell.execute_reply.started": "2024-07-08T10:12:01.221785Z"
        },
        "id": "A8bEgUc2hmet",
        "trusted": true
      },
      "outputs": [],
      "source": [
        "class SACAgent:\n",
        "    def __init__(self, environment, replay_buffer=None, offline=False, learning_rate=3e-3, discount=0.99, buffer_batch_size=100, alpha_init=1, interpolation_factor=0.01):\n",
        "        self.environment = environment\n",
        "        self.state_dim = self.environment.observation_space.shape[0]\n",
        "        self.action_dim = self.environment.action_space.n\n",
        "\n",
        "        self.alpha_init = alpha_init\n",
        "        self.learning_rate = learning_rate\n",
        "        self.discount = discount\n",
        "        self.buffer_batch_size = buffer_batch_size\n",
        "        self.interpolation_factor = interpolation_factor\n",
        "\n",
        "        self.replay_buffer = ReplayBuffer(self.environment) if replay_buffer is None else replay_buffer\n",
        "        self.offline = offline\n",
        "\n",
        "        ##########################################################\n",
        "         \n",
        "        # Define critics usig your implemented feed forward netwrok\n",
        "        ##########################################################\n",
        "        self.critic_local = Network(self.state_dim, 1)\n",
        "        self.critic_local2 = Network(self.state_dim, 1)\n",
        "        self.critic_optimiser = Adam(self.critic_local.parameters(), lr=self.learning_rate)\n",
        "        self.critic_optimiser2 = Adam(self.critic_local2.parameters(), lr=self.learning_rate)\n",
        "        self.critic_target = Network(self.state_dim, 1)\n",
        "        self.critic_target2 = Network(self.state_dim, 1)\n",
        "        ##########################################################\n",
        "\n",
        "        self.soft_update_target_networks(tau=1.)\n",
        "\n",
        "        ##########################################################\n",
        "         \n",
        "        # Define the actor\n",
        "        # Define the actor optimizer\n",
        "        ##########################################################\n",
        "        self.actor_local = Network(self.state_dim, self.action_dim, output_activation=torch.nn.Softmax(dim=-1))\n",
        "        self.actor_optimiser  = Adam(self.actor_local.parameters(), lr=self.learning_rate)\n",
        "        ##########################################################\n",
        "        self.target_entropy = 0.98 * -np.log(1 / self.environment.action_space.n)\n",
        "        self.log_alpha = torch.tensor(np.log(self.alpha_init), requires_grad=True)\n",
        "        self.alpha = self.log_alpha\n",
        "        self.alpha_optimiser = torch.optim.Adam([self.log_alpha], lr=self.learning_rate)\n",
        "\n",
        "    def get_next_action(self, state, evaluation_episode=False):\n",
        "        if evaluation_episode:\n",
        "            discrete_action = self.get_action_deterministically(state)\n",
        "        else:\n",
        "            discrete_action = self.get_action_nondeterministically(state)\n",
        "        return discrete_action\n",
        "\n",
        "    def get_action_nondeterministically(self, state):\n",
        "        action_probabilities = self.get_action_probabilities(state)\n",
        "#         print(action_probabilities)\n",
        "        discrete_action = np.random.choice(range(self.action_dim), p=action_probabilities)\n",
        "        return discrete_action\n",
        "\n",
        "    def get_action_deterministically(self, state):\n",
        "        action_probabilities = self.get_action_probabilities(state)\n",
        "        discrete_action = np.argmax(action_probabilities)\n",
        "        return discrete_action\n",
        "\n",
        "    def critic_loss(self, states_tensor, actions_tensor, rewards_tensor,\n",
        "                    next_states_tensor, done_tensor):\n",
        "        ##########################################################\n",
        "         \n",
        "        # You are going to calculate critic losses in this method\n",
        "        ##########################################################\n",
        "        probs_next_actions, log_probs_next_actions = self.get_action_info(states_tensor)\n",
        "        log_probs_next_actions = log_probs_next_actions.gather(1, actions_tensor.unsqueeze(1)).view(-1)\n",
        "#         print(\"actions_tensor:\", actions_tensor.shape)\n",
        "\n",
        "        target_q_values1 = self.critic_target(next_states_tensor).view(-1)\n",
        "        target_q_values2 = self.critic_target2(next_states_tensor).view(-1)\n",
        "        target_q_values = rewards_tensor + self.discount * (1 - done_tensor) * (torch.min(target_q_values1, target_q_values2) - self.alpha * log_probs_next_actions)\n",
        "#         print(\"target_q_values1:\", target_q_values1.shape)\n",
        "#         print(\"target_q_values2:\", target_q_values2.shape)\n",
        "        current_q_values1 = self.critic_local(states_tensor).view(-1)\n",
        "        current_q_values2 = self.critic_local2(states_tensor).view(-1)\n",
        "\n",
        "        critic_loss1 = F.mse_loss(current_q_values1, target_q_values)\n",
        "        critic_loss2 = F.mse_loss(current_q_values2, target_q_values)\n",
        "\n",
        "        return critic_loss1, critic_loss2\n",
        "        ##########################################################\n",
        "\n",
        "    def actor_loss(self, states_tensor, actions_tensor):\n",
        "        ##########################################################\n",
        "         \n",
        "        # Implement the actor loss\n",
        "        ##########################################################\n",
        "        probs_next_actions, log_probs_next_actions = self.get_action_info(states_tensor)\n",
        "\n",
        "        log_probs_next_actions = log_probs_next_actions.gather(1, actions_tensor.unsqueeze(1)).view(-1)\n",
        "\n",
        "        q_values1 = self.critic_local(states_tensor)\n",
        "        q_values2 = self.critic_local2(states_tensor)\n",
        "\n",
        "        actor_loss_value = (self.alpha * log_probs_next_actions - torch.min(q_values1, q_values2).view(-1)).mean()\n",
        "\n",
        "        return actor_loss_value, log_probs_next_actions\n",
        "\n",
        "        ##########################################################\n",
        "\n",
        "    def train_on_transition(self, state, discrete_action, next_state, reward, done):\n",
        "        transition = (state, discrete_action, reward, next_state, done)\n",
        "        self.train_networks(transition)\n",
        "\n",
        "    def train_networks(self, transition=None, batch_deterministic_start=None):\n",
        "        ##########################################################\n",
        "         \n",
        "        # Set all the gradients stored in the optimizers to zero\n",
        "        # Add the new transition to the replay buffer for online case\n",
        "        ##########################################################\n",
        "        self.actor_optimiser.zero_grad()\n",
        "        self.alpha_optimiser.zero_grad()\n",
        "        self.critic_optimiser.zero_grad()\n",
        "        self.critic_optimiser2.zero_grad()\n",
        "\n",
        "        if not self.offline and transition is not None:\n",
        "            self.replay_buffer.add_transition(transition)\n",
        "\n",
        "        if self.replay_buffer.get_size() >= self.buffer_batch_size:\n",
        "            minibatch = self.replay_buffer.sample_minibatch(self.buffer_batch_size, batch_deterministic_start=batch_deterministic_start)\n",
        "            minibatch_separated = list(map(list, zip(*minibatch)))\n",
        "\n",
        "            states_tensor = torch.tensor(np.array(minibatch_separated[0]))\n",
        "            actions_tensor = torch.tensor(np.array(minibatch_separated[1]))\n",
        "            rewards_tensor = torch.tensor(np.array(minibatch_separated[2])).float()\n",
        "            next_states_tensor = torch.tensor(np.array(minibatch_separated[3]))\n",
        "            done_tensor = torch.tensor(np.array(minibatch_separated[4]))\n",
        "\n",
        "            ##########################################################\n",
        "             \n",
        "            # compute the critic loss and perform the backpropagation,\n",
        "            # then compute the actor loss and backpropagate the gradient on it\n",
        "            # You also need to update \\alpha\n",
        "            ##########################################################\n",
        "\n",
        "            critic_loss, critic2_loss = self.critic_loss(states_tensor, actions_tensor, rewards_tensor, next_states_tensor, done_tensor)\n",
        "            critic_loss.backward(retain_graph=True)\n",
        "            critic2_loss.backward(retain_graph=True)\n",
        "            self.critic_optimiser.step()\n",
        "            self.critic_optimiser2.step()\n",
        "\n",
        "            actor_loss, log_action_probabilities = self.actor_loss(states_tensor, actions_tensor)\n",
        "            actor_loss.backward()\n",
        "            self.actor_optimiser.step()\n",
        "\n",
        "            alpha_loss = self.temperature_loss(log_action_probabilities)\n",
        "            alpha_loss.backward()\n",
        "            self.alpha_optimiser.step()\n",
        "            self.alpha = self.log_alpha.exp()\n",
        "#             print(critic_loss, critic2_loss, actor_loss, alpha_loss)\n",
        "\n",
        "            self.soft_update_target_networks(self.interpolation_factor)\n",
        "\n",
        "\n",
        "    def temperature_loss(self, log_action_probabilities):\n",
        "        alpha_loss = -(self.log_alpha * (log_action_probabilities + self.target_entropy).detach()).mean()\n",
        "        return alpha_loss\n",
        "\n",
        "    def get_action_info(self, states_tensor):\n",
        "        action_probabilities = self.actor_local.forward(states_tensor)\n",
        "        z = action_probabilities == 0.0\n",
        "        z = z.float() * 1e-8\n",
        "        log_action_probabilities = torch.log(action_probabilities + z)\n",
        "        return action_probabilities, log_action_probabilities\n",
        "\n",
        "    def get_action_probabilities(self, state):\n",
        "        state_tensor = torch.tensor(state, dtype=torch.float32).unsqueeze(0)\n",
        "        action_probabilities = self.actor_local.forward(state_tensor)\n",
        "#         print(action_probabilities.squeeze(0).detach().numpy(), state_tensor)\n",
        "        return action_probabilities.squeeze(0).detach().numpy()\n",
        "\n",
        "    def soft_update_target_networks(self, tau):\n",
        "        self.soft_update(self.critic_target, self.critic_local, tau)\n",
        "        self.soft_update(self.critic_target2, self.critic_local2, tau)\n",
        "\n",
        "    def soft_update(self, target_model, origin_model, tau):\n",
        "        for target_param, local_param in zip(target_model.parameters(), origin_model.parameters()):\n",
        "            target_param.data.copy_(tau * local_param.data + (1 - tau) * target_param.data)\n",
        "\n",
        "    def predict_q_values(self, state, action):\n",
        "        q_values = self.critic_local(state)\n",
        "        q_values2 = self.critic_local2(state)\n",
        "        return torch.min(q_values, q_values2)"
      ]
    },
    {
      "cell_type": "markdown",
      "metadata": {
        "id": "X7Tx4pS_kdo-"
      },
      "source": [
        "## Online SAC (10 points)"
      ]
    },
    {
      "cell_type": "markdown",
      "metadata": {
        "id": "jUm9_qfAlvf_"
      },
      "source": [
        "Now evaluate your model in CartPole environment in the online setting. After each 4 episodes, you should evaluate your model on a separate test environment. Run your model 4 times separately and plot the mean and deviation of the evaluation curves.\n",
        "\n",
        "**NOTE:** Since you are going to use the replay buffer of this agent as the offline dataset, you may want to save it for later use."
      ]
    },
    {
      "cell_type": "code",
      "execution_count": 16,
      "metadata": {
        "colab": {
          "base_uri": "https://localhost:8080/",
          "height": 1000
        },
        "execution": {
          "iopub.execute_input": "2024-07-08T11:59:22.776980Z",
          "iopub.status.busy": "2024-07-08T11:59:22.776462Z"
        },
        "id": "c6quXtBzZ6nZ",
        "outputId": "a08743fc-8e4e-42e4-ad8f-f2b9092580ec",
        "trusted": true
      },
      "outputs": [
        {
          "name": "stdout",
          "output_type": "stream",
          "text": [
            "Run 1/1\n",
            "Episode 4/200 - Evaluation Mean: 9.20, Std: 0.40, Total: [10.0, 9.0, 9.0, 9.0, 9.0]\n",
            "Episode 8/200 - Evaluation Mean: 9.80, Std: 0.75, Total: [10.0, 9.0, 11.0, 9.0, 10.0]\n",
            "Episode 12/200 - Evaluation Mean: 10.00, Std: 0.89, Total: [9.0, 9.0, 11.0, 10.0, 11.0]\n",
            "Episode 16/200 - Evaluation Mean: 12.60, Std: 2.06, Total: [11.0, 13.0, 13.0, 10.0, 16.0]\n",
            "Episode 20/200 - Evaluation Mean: 102.00, Std: 49.90, Total: [119.0, 61.0, 79.0, 192.0, 59.0]\n",
            "Episode 24/200 - Evaluation Mean: 200.00, Std: 0.00, Total: [200.0, 200.0, 200.0, 200.0, 200.0]\n",
            "Episode 28/200 - Evaluation Mean: 140.20, Std: 31.54, Total: [107.0, 200.0, 131.0, 137.0, 126.0]\n",
            "Episode 32/200 - Evaluation Mean: 188.20, Std: 20.28, Total: [148.0, 193.0, 200.0, 200.0, 200.0]\n",
            "Episode 36/200 - Evaluation Mean: 140.60, Std: 19.15, Total: [135.0, 122.0, 121.0, 155.0, 170.0]\n",
            "Episode 40/200 - Evaluation Mean: 169.00, Std: 28.65, Total: [172.0, 122.0, 200.0, 155.0, 196.0]\n",
            "Episode 44/200 - Evaluation Mean: 128.40, Std: 25.59, Total: [101.0, 119.0, 177.0, 124.0, 121.0]\n",
            "Episode 48/200 - Evaluation Mean: 169.00, Std: 27.28, Total: [200.0, 130.0, 155.0, 200.0, 160.0]\n",
            "Episode 52/200 - Evaluation Mean: 183.20, Std: 22.16, Total: [200.0, 145.0, 171.0, 200.0, 200.0]\n",
            "Episode 56/200 - Evaluation Mean: 167.40, Std: 37.29, Total: [98.0, 200.0, 182.0, 161.0, 196.0]\n",
            "Episode 60/200 - Evaluation Mean: 195.40, Std: 9.20, Total: [200.0, 200.0, 200.0, 177.0, 200.0]\n",
            "Episode 64/200 - Evaluation Mean: 198.00, Std: 4.00, Total: [200.0, 190.0, 200.0, 200.0, 200.0]\n",
            "Episode 68/200 - Evaluation Mean: 200.00, Std: 0.00, Total: [200.0, 200.0, 200.0, 200.0, 200.0]\n",
            "Episode 72/200 - Evaluation Mean: 196.00, Std: 8.00, Total: [180.0, 200.0, 200.0, 200.0, 200.0]\n",
            "Episode 76/200 - Evaluation Mean: 200.00, Std: 0.00, Total: [200.0, 200.0, 200.0, 200.0, 200.0]\n",
            "Episode 80/200 - Evaluation Mean: 200.00, Std: 0.00, Total: [200.0, 200.0, 200.0, 200.0, 200.0]\n",
            "Episode 84/200 - Evaluation Mean: 200.00, Std: 0.00, Total: [200.0, 200.0, 200.0, 200.0, 200.0]\n",
            "Episode 88/200 - Evaluation Mean: 200.00, Std: 0.00, Total: [200.0, 200.0, 200.0, 200.0, 200.0]\n",
            "Episode 92/200 - Evaluation Mean: 200.00, Std: 0.00, Total: [200.0, 200.0, 200.0, 200.0, 200.0]\n",
            "Episode 96/200 - Evaluation Mean: 200.00, Std: 0.00, Total: [200.0, 200.0, 200.0, 200.0, 200.0]\n",
            "Episode 100/200 - Evaluation Mean: 200.00, Std: 0.00, Total: [200.0, 200.0, 200.0, 200.0, 200.0]\n",
            "Episode 104/200 - Evaluation Mean: 200.00, Std: 0.00, Total: [200.0, 200.0, 200.0, 200.0, 200.0]\n",
            "Episode 108/200 - Evaluation Mean: 200.00, Std: 0.00, Total: [200.0, 200.0, 200.0, 200.0, 200.0]\n",
            "Episode 112/200 - Evaluation Mean: 200.00, Std: 0.00, Total: [200.0, 200.0, 200.0, 200.0, 200.0]\n",
            "Episode 116/200 - Evaluation Mean: 200.00, Std: 0.00, Total: [200.0, 200.0, 200.0, 200.0, 200.0]\n",
            "Episode 120/200 - Evaluation Mean: 200.00, Std: 0.00, Total: [200.0, 200.0, 200.0, 200.0, 200.0]\n",
            "Episode 124/200 - Evaluation Mean: 200.00, Std: 0.00, Total: [200.0, 200.0, 200.0, 200.0, 200.0]\n",
            "Episode 128/200 - Evaluation Mean: 200.00, Std: 0.00, Total: [200.0, 200.0, 200.0, 200.0, 200.0]\n",
            "Episode 132/200 - Evaluation Mean: 200.00, Std: 0.00, Total: [200.0, 200.0, 200.0, 200.0, 200.0]\n",
            "Episode 136/200 - Evaluation Mean: 200.00, Std: 0.00, Total: [200.0, 200.0, 200.0, 200.0, 200.0]\n",
            "Episode 140/200 - Evaluation Mean: 200.00, Std: 0.00, Total: [200.0, 200.0, 200.0, 200.0, 200.0]\n",
            "Episode 144/200 - Evaluation Mean: 200.00, Std: 0.00, Total: [200.0, 200.0, 200.0, 200.0, 200.0]\n",
            "Episode 148/200 - Evaluation Mean: 200.00, Std: 0.00, Total: [200.0, 200.0, 200.0, 200.0, 200.0]\n",
            "Episode 152/200 - Evaluation Mean: 200.00, Std: 0.00, Total: [200.0, 200.0, 200.0, 200.0, 200.0]\n",
            "Episode 156/200 - Evaluation Mean: 200.00, Std: 0.00, Total: [200.0, 200.0, 200.0, 200.0, 200.0]\n",
            "Episode 160/200 - Evaluation Mean: 200.00, Std: 0.00, Total: [200.0, 200.0, 200.0, 200.0, 200.0]\n",
            "Episode 164/200 - Evaluation Mean: 200.00, Std: 0.00, Total: [200.0, 200.0, 200.0, 200.0, 200.0]\n",
            "Episode 168/200 - Evaluation Mean: 200.00, Std: 0.00, Total: [200.0, 200.0, 200.0, 200.0, 200.0]\n",
            "Episode 172/200 - Evaluation Mean: 200.00, Std: 0.00, Total: [200.0, 200.0, 200.0, 200.0, 200.0]\n",
            "Episode 176/200 - Evaluation Mean: 200.00, Std: 0.00, Total: [200.0, 200.0, 200.0, 200.0, 200.0]\n",
            "Episode 180/200 - Evaluation Mean: 200.00, Std: 0.00, Total: [200.0, 200.0, 200.0, 200.0, 200.0]\n",
            "Episode 184/200 - Evaluation Mean: 200.00, Std: 0.00, Total: [200.0, 200.0, 200.0, 200.0, 200.0]\n",
            "Episode 188/200 - Evaluation Mean: 200.00, Std: 0.00, Total: [200.0, 200.0, 200.0, 200.0, 200.0]\n",
            "Episode 192/200 - Evaluation Mean: 200.00, Std: 0.00, Total: [200.0, 200.0, 200.0, 200.0, 200.0]\n",
            "Episode 196/200 - Evaluation Mean: 200.00, Std: 0.00, Total: [200.0, 200.0, 200.0, 200.0, 200.0]\n",
            "Episode 200/200 - Evaluation Mean: 200.00, Std: 0.00, Total: [200.0, 200.0, 200.0, 200.0, 200.0]\n"
          ]
        },
        {
          "data": {
            "image/png": "[encoded data removed]",
            "text/plain": [
              "<Figure size 1000x500 with 1 Axes>"
            ]
          },
          "metadata": {},
          "output_type": "display_data"
        }
      ],
      "source": [
        "TRAINING_EVALUATION_RATIO = 4\n",
        "EPISODES_PER_RUN = 200\n",
        "STEPS_PER_EPISODE = 200\n",
        "env = gym.make(\"CartPole-v1\")\n",
        "NUM_RUNS = 1\n",
        "##########################################################\n",
        " \n",
        "# Implement the training loop for the online SAC.\n",
        "# After each epoch, run validation\n",
        "# and plot the mean return over these\n",
        "# episodes in the end\n",
        "# Plot the learning curves\n",
        "##########################################################\n",
        "\n",
        "def evaluate_agent(agent, env, steps_per_episode, episodes=5):\n",
        "    total_rewards = []\n",
        "    for _ in range(episodes):\n",
        "        state = env.reset()\n",
        "        episode_reward = 0\n",
        "        done = False\n",
        "        for step in range(steps_per_episode):\n",
        "            action = agent.get_next_action(state, evaluation_episode=True)\n",
        "            next_state, reward, done, _ = env.step(action)\n",
        "            episode_reward += reward\n",
        "            state = next_state\n",
        "            if done:\n",
        "                break\n",
        "        total_rewards.append(episode_reward)\n",
        "    return total_rewards, np.mean(total_rewards), np.std(total_rewards)\n",
        "\n",
        "def train_and_evaluate(agent, env, training_evaluation_ratio, episodes_per_run, steps_per_episode):\n",
        "    training_rewards = []\n",
        "    evaluation_rewards = []\n",
        "    evaluation_means = []\n",
        "    evaluation_stds = []\n",
        "\n",
        "    for episode in range(episodes_per_run):\n",
        "        state = env.reset()\n",
        "        episode_reward = 0\n",
        "        for step in range(steps_per_episode):\n",
        "            action = agent.get_next_action(state)\n",
        "            next_state, reward, done, _ = env.step(action)\n",
        "#             print(next_state, state, action, reward)\n",
        "            agent.train_on_transition(state, action, next_state, reward, done)\n",
        "            episode_reward += reward\n",
        "            state = next_state\n",
        "            if done:\n",
        "                break\n",
        "\n",
        "        training_rewards.append(episode_reward)\n",
        "\n",
        "        if (episode + 1) % training_evaluation_ratio == 0:\n",
        "            eval_rewards,eval_mean, eval_std = evaluate_agent(agent, env, steps_per_episode)\n",
        "            evaluation_rewards.append(eval_rewards)\n",
        "            evaluation_means.append(eval_mean)\n",
        "            evaluation_stds.append(eval_std)\n",
        "            print(f\"Episode {episode + 1}/{episodes_per_run} - Evaluation Mean: {eval_mean:.2f}, Std: {eval_std:.2f}, Total: {eval_rewards}\")\n",
        "\n",
        "    return training_rewards, evaluation_rewards, evaluation_means, evaluation_stds\n",
        "\n",
        "all_training_rewards = []\n",
        "all_evaluation_rewards = []\n",
        "all_evaluation_means = []\n",
        "all_evaluation_stds = []\n",
        "\n",
        "for run in range(NUM_RUNS):\n",
        "    print(f\"Run {run + 1}/{NUM_RUNS}\")\n",
        "    sac_agent = SACAgent(env)\n",
        "    training_rewards, evaluation_rewards, eval_means, eval_stds = train_and_evaluate(sac_agent, env, TRAINING_EVALUATION_RATIO, EPISODES_PER_RUN, STEPS_PER_EPISODE)\n",
        "    all_training_rewards.append(training_rewards)\n",
        "    all_evaluation_rewards.append(evaluation_rewards)\n",
        "    all_evaluation_means.append(eval_means)\n",
        "    all_evaluation_stds.append(eval_stds)\n",
        "\n",
        "all_training_rewards = np.array(all_training_rewards)\n",
        "all_evaluation_rewards = np.array(evaluation_rewards)\n",
        "all_evaluation_means = np.array(all_evaluation_means)\n",
        "all_evaluation_stds = np.array(all_evaluation_stds)\n",
        "\n",
        "\n",
        "x_values = np.arange(1, len(all_evaluation_means[0]) + 1) * TRAINING_EVALUATION_RATIO\n",
        "np.save(\"replay_buffer.npy\", sac_agent.replay_buffer.buffer)\n",
        "\n",
        "plt.figure(figsize=(10, 5))\n",
        "plt.plot(x_values, all_evaluation_means[0], label='Reward')\n",
        "plt.xlabel('Episode')\n",
        "plt.ylabel('Reward')\n",
        "plt.title('Online SAC')\n",
        "plt.legend()\n",
        "plt.show()\n"
      ]
    },
    {
      "cell_type": "code",
      "execution_count": 18,
      "metadata": {
        "colab": {
          "base_uri": "https://localhost:8080/",
          "height": 338
        },
        "id": "Ge2uIJtGzGUW",
        "outputId": "c6322668-bb1b-4ce3-88fa-d76ece0fdfb5",
        "trusted": true
      },
      "outputs": [
        {
          "name": "stderr",
          "output_type": "stream",
          "text": [
            "WARNING:imageio_ffmpeg:IMAGEIO FFMPEG_WRITER WARNING: input image is not divisible by macro_block_size=16, resizing from (600, 400) to (608, 400) to ensure video compatibility with most codecs and players. To prevent resizing, make your input image divisible by the macro_block_size or set the macro_block_size to 1 (risking incompatibility).\n"
          ]
        },
        {
          "name": "stdout",
          "output_type": "stream",
          "text": [
            "200.0\n"
          ]
        },
        {
          "data": {
            "text/html": [
              "\n",
              "    <video width=400 controls>\n",
              "          <source src=\"data:video/mp4;base64,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\" type=\"video/mp4\">\n",
              "    </video>\n",
              "    "
            ],
            "text/plain": [
              "<IPython.core.display.HTML object>"
            ]
          },
          "execution_count": 18,
          "metadata": {},
          "output_type": "execute_result"
        }
      ],
      "source": [
        "env = gym.make(\"CartPole-v1\", render_mode=\"rgb_array\")\n",
        "frames = []\n",
        "total_reward = 0\n",
        "\n",
        "state = env.reset()\n",
        "for _ in range(200):\n",
        "    frames.append(env.render()[0])\n",
        "    action = sac_agent.get_next_action(state, evaluation_episode=True)\n",
        "    state, reward, done, info = env.step(action)\n",
        "    total_reward += reward\n",
        "    if done:\n",
        "        break\n",
        "\n",
        "print(total_reward)\n",
        "env.close()\n",
        "imageio.mimsave('./online.mp4', frames, fps=25)\n",
        "show_video('./online.mp4')"
      ]
    },
    {
      "cell_type": "code",
      "execution_count": null,
      "metadata": {
        "id": "SEvTWoHgRq2F",
        "trusted": true
      },
      "outputs": [],
      "source": [
        "!pip install gym[classic_control]\n",
        "!pip install imageio==2.19.3\n",
        "!pip install imageio-ffmpeg==0.4.7"
      ]
    },
    {
      "cell_type": "markdown",
      "metadata": {
        "id": "WxqbDN6DU0AY"
      },
      "source": [
        "## Offline SAC (10 points)"
      ]
    },
    {
      "cell_type": "markdown",
      "metadata": {
        "id": "QRwciG6WU6ES"
      },
      "source": [
        "In this part you are going to train an SAC agent using the replay buffer from the online agent. During training you sample from this replay buffer and train the offline agent **without adding transitions to the replay buffer**. The loss function and every thing else is the same as the online setting."
      ]
    },
    {
      "cell_type": "code",
      "execution_count": 35,
      "metadata": {
        "colab": {
          "base_uri": "https://localhost:8080/",
          "height": 912
        },
        "execution": {
          "iopub.execute_input": "2024-07-08T11:53:21.430538Z",
          "iopub.status.busy": "2024-07-08T11:53:21.430104Z",
          "iopub.status.idle": "2024-07-08T11:54:39.056995Z",
          "shell.execute_reply": "2024-07-08T11:54:39.055587Z",
          "shell.execute_reply.started": "2024-07-08T11:53:21.430488Z"
        },
        "id": "AcArEy_EU5H0",
        "outputId": "b9593db8-25f1-47d2-a973-241fc00673c7",
        "trusted": true
      },
      "outputs": [
        {
          "name": "stdout",
          "output_type": "stream",
          "text": [
            "Episode 4/100 - Evaluation Mean: 147.00, Std: 57.16, Total: [60.0, 98.0, 181.0, 200.0, 196.0]\n",
            "Episode 8/100 - Evaluation Mean: 200.00, Std: 0.00, Total: [200.0, 200.0, 200.0, 200.0, 200.0]\n",
            "Episode 12/100 - Evaluation Mean: 200.00, Std: 0.00, Total: [200.0, 200.0, 200.0, 200.0, 200.0]\n",
            "Episode 16/100 - Evaluation Mean: 200.00, Std: 0.00, Total: [200.0, 200.0, 200.0, 200.0, 200.0]\n",
            "Episode 20/100 - Evaluation Mean: 200.00, Std: 0.00, Total: [200.0, 200.0, 200.0, 200.0, 200.0]\n",
            "Episode 24/100 - Evaluation Mean: 200.00, Std: 0.00, Total: [200.0, 200.0, 200.0, 200.0, 200.0]\n",
            "Episode 28/100 - Evaluation Mean: 200.00, Std: 0.00, Total: [200.0, 200.0, 200.0, 200.0, 200.0]\n",
            "Episode 32/100 - Evaluation Mean: 200.00, Std: 0.00, Total: [200.0, 200.0, 200.0, 200.0, 200.0]\n",
            "Episode 36/100 - Evaluation Mean: 200.00, Std: 0.00, Total: [200.0, 200.0, 200.0, 200.0, 200.0]\n",
            "Episode 40/100 - Evaluation Mean: 200.00, Std: 0.00, Total: [200.0, 200.0, 200.0, 200.0, 200.0]\n",
            "Episode 44/100 - Evaluation Mean: 200.00, Std: 0.00, Total: [200.0, 200.0, 200.0, 200.0, 200.0]\n",
            "Episode 48/100 - Evaluation Mean: 200.00, Std: 0.00, Total: [200.0, 200.0, 200.0, 200.0, 200.0]\n",
            "Episode 52/100 - Evaluation Mean: 200.00, Std: 0.00, Total: [200.0, 200.0, 200.0, 200.0, 200.0]\n",
            "Episode 56/100 - Evaluation Mean: 200.00, Std: 0.00, Total: [200.0, 200.0, 200.0, 200.0, 200.0]\n",
            "Episode 60/100 - Evaluation Mean: 200.00, Std: 0.00, Total: [200.0, 200.0, 200.0, 200.0, 200.0]\n",
            "Episode 64/100 - Evaluation Mean: 200.00, Std: 0.00, Total: [200.0, 200.0, 200.0, 200.0, 200.0]\n",
            "Episode 68/100 - Evaluation Mean: 200.00, Std: 0.00, Total: [200.0, 200.0, 200.0, 200.0, 200.0]\n",
            "Episode 72/100 - Evaluation Mean: 200.00, Std: 0.00, Total: [200.0, 200.0, 200.0, 200.0, 200.0]\n",
            "Episode 76/100 - Evaluation Mean: 200.00, Std: 0.00, Total: [200.0, 200.0, 200.0, 200.0, 200.0]\n",
            "Episode 80/100 - Evaluation Mean: 200.00, Std: 0.00, Total: [200.0, 200.0, 200.0, 200.0, 200.0]\n",
            "Episode 84/100 - Evaluation Mean: 200.00, Std: 0.00, Total: [200.0, 200.0, 200.0, 200.0, 200.0]\n",
            "Episode 88/100 - Evaluation Mean: 200.00, Std: 0.00, Total: [200.0, 200.0, 200.0, 200.0, 200.0]\n",
            "Episode 92/100 - Evaluation Mean: 200.00, Std: 0.00, Total: [200.0, 200.0, 200.0, 200.0, 200.0]\n",
            "Episode 96/100 - Evaluation Mean: 200.00, Std: 0.00, Total: [200.0, 200.0, 200.0, 200.0, 200.0]\n",
            "Episode 100/100 - Evaluation Mean: 200.00, Std: 0.00, Total: [200.0, 200.0, 200.0, 200.0, 200.0]\n"
          ]
        },
        {
          "data": {
            "image/png": "[encoded data removed]",
            "text/plain": [
              "<Figure size 1000x500 with 1 Axes>"
            ]
          },
          "metadata": {},
          "output_type": "display_data"
        }
      ],
      "source": [
        "NUM_EPOCHS = 200\n",
        "EPISODES_PER_RUN = 100\n",
        "\n",
        "env = gym.make(\"CartPole-v1\")\n",
        "\n",
        "##########################################################\n",
        " \n",
        "# Implement the training loop for the offline SAC.\n",
        "# After each epoch, run  validation\n",
        "# and plot the mean return over these\n",
        "# episodes in the end\n",
        "##########################################################\n",
        "\n",
        "def train_and_evaluate_offline(agent, env, training_evaluation_ratio, num_epochs, episodes_per_run, steps_per_episode):\n",
        "    training_rewards = []\n",
        "    evaluation_rewards = []\n",
        "    evaluation_means = []\n",
        "    evaluation_stds = []\n",
        "\n",
        "\n",
        "    for episode in range(episodes_per_run):\n",
        "        for epoch in range(NUM_EPOCHS):\n",
        "            agent.train_networks()\n",
        "\n",
        "        eval_rewards, eval_mean, eval_std = evaluate_agent(agent, env, steps_per_episode)\n",
        "        evaluation_rewards.append(eval_rewards)\n",
        "        evaluation_means.append(eval_mean)\n",
        "        evaluation_stds.append(eval_std)\n",
        "\n",
        "        if (episode + 1) % training_evaluation_ratio == 0:\n",
        "            print(f\"Episode {episode + 1}/{episodes_per_run} - Evaluation Mean: {eval_mean:.2f}, Std: {eval_std:.2f}, Total: {eval_rewards}\")\n",
        "\n",
        "    return training_rewards, evaluation_rewards, evaluation_means, evaluation_stds\n",
        "\n",
        "\n",
        "# replay_buffer_data = np.load(\"replay_buffer.npy\", allow_pickle=True)\n",
        "# replay_buffer = ReplayBuffer(env)\n",
        "# replay_buffer.buffer = replay_buffer_data\n",
        "# replay_buffer.count = len(replay_buffer_data)\n",
        "\n",
        "replay_buffer = sac_agent.replay_buffer\n",
        "offline_sac_agent = SACAgent(env, replay_buffer=replay_buffer, offline=True)\n",
        "training_rewards, evaluation_rewards, eval_means, eval_stds = train_and_evaluate_offline(offline_sac_agent, env, TRAINING_EVALUATION_RATIO, NUM_EPOCHS, EPISODES_PER_RUN, STEPS_PER_EPISODE)\n",
        "\n",
        "x_values = np.arange(1, len(eval_means) + 1)\n",
        "\n",
        "plt.figure(figsize=(10, 5))\n",
        "plt.plot(x_values, eval_means, label='Reward')\n",
        "plt.xlabel('Epoch')\n",
        "plt.ylabel('Reward')\n",
        "plt.title('Offline SAC')\n",
        "plt.legend()\n",
        "plt.show()"
      ]
    },
    {
      "cell_type": "code",
      "execution_count": 39,
      "metadata": {
        "colab": {
          "base_uri": "https://localhost:8080/",
          "height": 338
        },
        "id": "UQCpir_G2tIP",
        "outputId": "6de93936-bc0b-4f99-d408-0b63e54a1625"
      },
      "outputs": [
        {
          "name": "stderr",
          "output_type": "stream",
          "text": [
            "WARNING:imageio_ffmpeg:IMAGEIO FFMPEG_WRITER WARNING: input image is not divisible by macro_block_size=16, resizing from (600, 400) to (608, 400) to ensure video compatibility with most codecs and players. To prevent resizing, make your input image divisible by the macro_block_size or set the macro_block_size to 1 (risking incompatibility).\n"
          ]
        },
        {
          "name": "stdout",
          "output_type": "stream",
          "text": [
            "200.0\n"
          ]
        },
        {
          "data": {
            "text/html": [
              "\n",
              "    <video width=400 controls>\n",
              "          <source src=\"data:video/mp4;base64,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\" type=\"video/mp4\">\n",
              "    </video>\n",
              "    "
            ],
            "text/plain": [
              "<IPython.core.display.HTML object>"
            ]
          },
          "execution_count": 39,
          "metadata": {},
          "output_type": "execute_result"
        }
      ],
      "source": [
        "env = gym.make(\"CartPole-v1\", render_mode=\"rgb_array\")\n",
        "frames = []\n",
        "total_reward = 0\n",
        "\n",
        "state = env.reset()\n",
        "for _ in range(200):\n",
        "    frames.append(env.render()[0])\n",
        "    action = offline_sac_agent.get_next_action(state, evaluation_episode=True)\n",
        "    state, reward, done, info = env.step(action)\n",
        "    total_reward += reward\n",
        "    if done:\n",
        "        break\n",
        "\n",
        "print(total_reward)\n",
        "env.close()\n",
        "imageio.mimsave('./offline.mp4', frames, fps=25)\n",
        "show_video('./offline.mp4')"
      ]
    },
    {
      "cell_type": "markdown",
      "metadata": {
        "id": "WtI9ifQeSG2O"
      },
      "source": [
        " # Behavioural Cloning (20 points)\n",
        "\n",
        "Behavioral cloning works by mimicking expert behavior through supervised learning. It involves collecting a dataset of expert trajectories, which are sequences of state-action pairs (unlike offline reinforcement learning, which also collects rewards to train the model). The model is then trained to predict the expert's actions based on the observed states. The goal is for the model to replicate the expert's behavior by minimizing the difference between its predicted actions and the expert's actions."
      ]
    },
    {
      "cell_type": "markdown",
      "metadata": {
        "id": "TEGow3ZtSex2"
      },
      "source": [
        "We first need to collect data using the previously trained model."
      ]
    },
    {
      "cell_type": "code",
      "execution_count": 37,
      "metadata": {
        "colab": {
          "base_uri": "https://localhost:8080/"
        },
        "id": "83vk-JHqSdqV",
        "outputId": "58517e7d-e58a-412e-e682-1208ca752aef"
      },
      "outputs": [
        {
          "name": "stderr",
          "output_type": "stream",
          "text": [
            "100%|██████████| 1000/1000 [02:07<00:00,  7.84it/s]\n"
          ]
        }
      ],
      "source": [
        "env = gym.make('CartPole-v1')\n",
        "num_episodes = 1000\n",
        "expert_data = []\n",
        "\n",
        " \n",
        "# Collect state-action pairs\n",
        "\n",
        "for episode in tqdm(range(num_episodes)):\n",
        "    state = env.reset()\n",
        "    done = False\n",
        "    while not (done):\n",
        "        action = sac_agent.get_next_action(state, evaluation_episode=True)\n",
        "        next_state, reward, done, _ = env.step(action)\n",
        "        expert_data.append((state, action))\n",
        "        state = next_state\n",
        "\n",
        "expert_data = np.array(expert_data, dtype=object)\n",
        "np.save(\"expert_data.npy\", expert_data)"
      ]
    },
    {
      "cell_type": "markdown",
      "metadata": {
        "id": "TzBsilklUdV_"
      },
      "source": [
        "Define the model for behaviuoral cloning."
      ]
    },
    {
      "cell_type": "code",
      "execution_count": 40,
      "metadata": {
        "id": "Xojov1LeUl_F"
      },
      "outputs": [],
      "source": [
        "class BCModel(nn.Module):\n",
        "    def __init__(self, input_dimension, hidden_dimension, output_dimension):\n",
        "        super(BCModel, self).__init__()\n",
        "         \n",
        "        # Define the model\n",
        "        self.fc1 = nn.Linear(input_dimension, hidden_dimension)\n",
        "        self.fc2 = nn.Linear(hidden_dimension, output_dimension)\n",
        "\n",
        "    def forward(self, x):\n",
        "         \n",
        "        # Perform forward pass\n",
        "        x = F.relu(self.fc1(x))\n",
        "        output = self.fc2(x)\n",
        "        return output"
      ]
    },
    {
      "cell_type": "markdown",
      "metadata": {
        "id": "2_guGo3XvrCH"
      },
      "source": [
        "In this section, we implement the training loop for behavioral cloning. During each iteration, we sample a minibatch of state-action pairs from the expert dataset. This minibatch is then used to update the model."
      ]
    },
    {
      "cell_type": "code",
      "execution_count": 51,
      "metadata": {
        "colab": {
          "base_uri": "https://localhost:8080/"
        },
        "id": "ZxLrpNIpg2Mu",
        "outputId": "d0f7dc8b-9ed7-4bcb-fb46-2fcc22a73a34"
      },
      "outputs": [
        {
          "name": "stdout",
          "output_type": "stream",
          "text": [
            "Epoch 1/15, Loss: 1447.7942235115916\n",
            "Epoch 2/15, Loss: 427.5805440293625\n",
            "Epoch 3/15, Loss: 273.9605039296439\n",
            "Epoch 4/15, Loss: 217.65268638858106\n",
            "Epoch 5/15, Loss: 184.66179944758187\n",
            "Epoch 6/15, Loss: 164.3243040944617\n",
            "Epoch 7/15, Loss: 149.4867244035322\n",
            "Epoch 8/15, Loss: 138.04938001578012\n",
            "Epoch 9/15, Loss: 130.56671008762464\n",
            "Epoch 10/15, Loss: 122.5742626044439\n",
            "Epoch 11/15, Loss: 117.68544448793\n",
            "Epoch 12/15, Loss: 112.52546281715718\n",
            "Epoch 13/15, Loss: 108.01840596377815\n",
            "Epoch 14/15, Loss: 103.71823613331375\n",
            "Epoch 15/15, Loss: 101.9607957904854\n"
          ]
        }
      ],
      "source": [
        "def load_expert_data(file_path):\n",
        "    expert_data = np.load(file_path, allow_pickle=True)\n",
        "    states = np.vstack(expert_data[:, 0])\n",
        "    actions = np.array(expert_data[:, 1], dtype=int)\n",
        "    return states, actions\n",
        "\n",
        "def train_bc_model(model, criterion, optimizer, states, actions, num_epochs, batch_size):\n",
        "    states = torch.tensor(states, dtype=torch.float32)\n",
        "    actions = torch.tensor(actions, dtype=torch.long)\n",
        "\n",
        "    for epoch in range(num_epochs):\n",
        "        total_loss = 0\n",
        "        permutation = torch.randperm(states.size()[0])\n",
        "\n",
        "        for i in range(0, states.size()[0], batch_size):\n",
        "            indices = permutation[i:i + batch_size]\n",
        "            batch_states, batch_actions = states[indices], actions[indices]\n",
        "\n",
        "            optimizer.zero_grad()\n",
        "            outputs = model(batch_states)\n",
        "            loss = criterion(outputs, batch_actions)\n",
        "            loss.backward()\n",
        "            optimizer.step()\n",
        "\n",
        "            total_loss += loss.item()\n",
        "\n",
        "        avg_loss = total_loss / (states.size()[0] // batch_size)\n",
        "        print(f'Epoch {epoch + 1}/{num_epochs}, Loss: {total_loss}')\n",
        "\n",
        "file_path = \"expert_data.npy\"\n",
        "states, actions = load_expert_data(file_path)\n",
        "\n",
        "input_dimension = states.shape[1]\n",
        "hidden_dimension = 128\n",
        "output_dimension = env.action_space.n\n",
        "learning_rate = 1e-3\n",
        "num_epochs = 15\n",
        "batch_size = 64\n",
        "\n",
        "bc_model = BCModel(input_dimension, hidden_dimension, output_dimension)\n",
        "criterion = nn.CrossEntropyLoss()\n",
        "optimizer = optim.Adam(bc_model.parameters(), lr=learning_rate)\n",
        "\n",
        "train_bc_model(bc_model, criterion, optimizer, states, actions, num_epochs, batch_size)\n",
        "\n",
        "torch.save(bc_model.state_dict(), \"bc_model.pth\")"
      ]
    },
    {
      "cell_type": "markdown",
      "metadata": {
        "id": "eAe_p1uTw7uP"
      },
      "source": [
        "Evaluate and render the results."
      ]
    },
    {
      "cell_type": "code",
      "execution_count": 52,
      "metadata": {
        "colab": {
          "base_uri": "https://localhost:8080/",
          "height": 338
        },
        "id": "LL1Qik9DhJh0",
        "outputId": "e1a36af5-f113-47b1-b142-a5f55fefe67c"
      },
      "outputs": [
        {
          "name": "stderr",
          "output_type": "stream",
          "text": [
            "WARNING:imageio_ffmpeg:IMAGEIO FFMPEG_WRITER WARNING: input image is not divisible by macro_block_size=16, resizing from (600, 400) to (608, 400) to ensure video compatibility with most codecs and players. To prevent resizing, make your input image divisible by the macro_block_size or set the macro_block_size to 1 (risking incompatibility).\n"
          ]
        },
        {
          "name": "stdout",
          "output_type": "stream",
          "text": [
            "200.0\n"
          ]
        },
        {
          "data": {
            "text/html": [
              "\n",
              "    <video width=400 controls>\n",
              "          <source src=\"data:video/mp4;base64,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\" type=\"video/mp4\">\n",
              "    </video>\n",
              "    "
            ],
            "text/plain": [
              "<IPython.core.display.HTML object>"
            ]
          },
          "execution_count": 52,
          "metadata": {},
          "output_type": "execute_result"
        }
      ],
      "source": [
        "env = gym.make(\"CartPole-v1\", render_mode=\"rgb_array\")\n",
        "frames = []\n",
        "total_reward = 0\n",
        "\n",
        "state = env.reset()\n",
        "for _ in range(200):\n",
        "    frames.append(env.render()[0])\n",
        "    state = torch.tensor(state).unsqueeze(0)\n",
        "    with torch.no_grad():\n",
        "        action_probs = bc_model(state)\n",
        "    action = torch.argmax(action_probs, dim=1).item()\n",
        "    state, reward, done, info = env.step(action)\n",
        "    total_reward += reward\n",
        "    if done:\n",
        "        break\n",
        "print(total_reward)\n",
        "env.close()\n",
        "imageio.mimsave('./bc.mp4', frames, fps=25)\n",
        "show_video('./bc.mp4')"
      ]
    }
  ],
  "metadata": {
    "colab": {
      "provenance": []
    },
    "kaggle": {
      "accelerator": "none",
      "dataSources": [],
      "dockerImageVersionId": 30732,
      "isGpuEnabled": false,
      "isInternetEnabled": true,
      "language": "python",
      "sourceType": "notebook"
    },
    "kernelspec": {
      "display_name": "Python 3",
      "language": "python",
      "name": "python3"
    },
    "language_info": {
      "codemirror_mode": {
        "name": "ipython",
        "version": 3
      },
      "file_extension": ".py",
      "mimetype": "text/x-python",
      "name": "python",
      "nbconvert_exporter": "python",
      "pygments_lexer": "ipython3",
      "version": "3.10.13"
    }
  },
  "nbformat": 4,
  "nbformat_minor": 0
}
